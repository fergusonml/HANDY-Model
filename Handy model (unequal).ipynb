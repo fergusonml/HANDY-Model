{
 "cells": [
  {
   "cell_type": "markdown",
   "metadata": {},
   "source": [
    "# Human and nature dynamics (HANDY): Modeling inequality and use of resources in the collapse or sustainability of societies\n",
    "\n",
    "## Safa Motesharrei$^{ a,⁎}$, Jorge Rivas$^{b}$, Eugenia Kalnay$^{c}$\n",
    "a School of Public Policy and Department of Mathematics,University of Maryland;and National Socio-Environmental Synthesis Center(SESYNC)\n",
    "\n",
    "b Department of Political Science,University of Minnesota; and Institute of Global Environment and Society(IGES)\n",
    "\n",
    "c Department of Atmospheric and Oceanic Science and Institute of Physical Science and Technology, University of Maryland\n",
    "\n",
    "https://www.sciencedirect.com/science/article/pii/S0921800914000615?via%3Dihub\n",
    "          "
   ]
  },
  {
   "cell_type": "markdown",
   "metadata": {},
   "source": [
    "### Highlights\n",
    "•HANDY is a 4-variable thought-experiment model for interaction of humans and nature.\n",
    "\n",
    "•The focus is on predicting long-term behavior rather than short-term forecasting.\n",
    "\n",
    "•Carrying Capacity is developed as a practical measure for forecasting collapses.\n",
    "\n",
    "•A sustainable steady state is shown to be possible in different types of societies.\n",
    "\n",
    "•But over-exploitation of either Labor or Nature results in a societal collapse."
   ]
  },
  {
   "cell_type": "markdown",
   "metadata": {},
   "source": [
    "## Abstract\n",
    "There are widespread concerns that current trends in resource-use are unsustainable, but possibilities of overshoot/collapse remain controversial. Collapses have occurred frequently in history, often followed by centuries of economic, intellectual, and population decline. Many different natural and social phenomena have been invoked to explain specific collapses, but a general explanation remains elusive.\n",
    "\n",
    "In this paper, we build a human population dynamics model by adding accumulated wealth and economic inequality to a predator–prey model of humans and nature. The model structure, and simulated scenarios that offer significant implications, are explained. Four equations describe the evolution of Elites, Commoners, Nature, and Wealth. The model shows Economic Stratification or Ecological Strain can independently lead to collapse, in agreement with the historical record.\n",
    "\n",
    "The measure “Carrying Capacity” is developed and its estimation is shown to be a practical means for early detection of a collapse. Mechanisms leading to two types of collapses are discussed. The new dynamics of this model can also reproduce the irreversible collapses found in history. Collapse can be avoided, and population can reach a steady state at maximum carrying capacity if the rate of depletion of nature is reduced to a sustainable level and if resources are distributed equitably.\n",
    "\n",
    "![](HANDY_model.jpg)"
   ]
  },
  {
   "cell_type": "code",
   "execution_count": 1,
   "metadata": {
    "jupyter": {
     "source_hidden": true
    }
   },
   "outputs": [],
   "source": [
    "# coding: utf-8\n",
    "\n",
    "# In[3]:\n",
    "\n",
    "get_ipython().magic('matplotlib inline')\n",
    "# %load ../newman/euler.py\n",
    "import numpy as np\n",
    "import matplotlib.pyplot as plt"
   ]
  },
  {
   "cell_type": "markdown",
   "metadata": {},
   "source": [
    "## parameters"
   ]
  },
  {
   "cell_type": "code",
   "execution_count": 2,
   "metadata": {
    "jupyter": {
     "source_hidden": true
    }
   },
   "outputs": [],
   "source": [
    "alph_m = 1.0e-2\n",
    "alph_max = 7.0e-2\n",
    "beta_c = 3e-2\n",
    "beta_e = 3e-2\n",
    "s = 5.0e-4\n",
    "rho = 5.0e-3\n",
    "gam = 1.0e-2\n",
    "lam = 100\n",
    "kap = 10 # 1, 10, 100\n",
    "del_ = 36.67e-6#No typical value"
   ]
  },
  {
   "cell_type": "markdown",
   "metadata": {},
   "source": [
    "## initial values"
   ]
  },
  {
   "cell_type": "code",
   "execution_count": 3,
   "metadata": {
    "jupyter": {
     "source_hidden": true
    }
   },
   "outputs": [],
   "source": [
    "chi_cnot = 100\n",
    "chi_enot = 25 # 0, 1, 25\n",
    "chi_c = chi_cnot  #I'm not quite sure how to deal with this specific condition\n",
    "chi_e = chi_enot\n",
    "w = 0.01          # Initial condition\n",
    "y = lam           # Initial condition"
   ]
  },
  {
   "cell_type": "markdown",
   "metadata": {},
   "source": [
    "## HANDY EQs"
   ]
  },
  {
   "cell_type": "code",
   "execution_count": 4,
   "metadata": {
    "jupyter": {
     "source_hidden": true
    }
   },
   "outputs": [],
   "source": [
    "def xp_c(chi_c):\n",
    "    return (beta_c - alph_c)*chi_c\n",
    "def xp_e(chi_e):\n",
    "    return (beta_e - alph_e)*chi_e\n",
    "def yp(y,chi_c):\n",
    "    return (gam*(lam-y)-del_*chi_c)*y\n",
    "def wp(chi_c):\n",
    "    return del_*chi_c*y-c_c-c_e  #this function doesn't have the variable \"w\" in it explicitly: FIX"
   ]
  },
  {
   "cell_type": "markdown",
   "metadata": {},
   "source": [
    "## Euler Solver"
   ]
  },
  {
   "cell_type": "code",
   "execution_count": 5,
   "metadata": {
    "jupyter": {
     "source_hidden": true
    }
   },
   "outputs": [],
   "source": [
    "a = 0.0           # Start of the interval\n",
    "b = 1000.0        # End of the interval\n",
    "N = 10000.0       # Number of steps\n",
    "h = (b-a)/N       # Size of a single step\n",
    "\n",
    "#create the array of time values and (empty) x-values, and loop over \n",
    "#all times supplementing x each time\n",
    "tpoints = np.arange(a,b,h)\n",
    "chi_cpts = []\n",
    "chi_epts = []\n",
    "ypts = []\n",
    "wpts = []\n",
    "\n",
    "for t in tpoints:\n",
    "    chi_cpts.append(chi_c)\n",
    "    chi_epts.append(chi_e)\n",
    "    ypts.append(y)\n",
    "    wpts.append(w)\n",
    "    \n",
    "    #variables and equations\n",
    "    w_th = rho*(chi_c + kap*chi_e)\n",
    "    omega = w/(w_th)\n",
    "    c_c = min(1, omega)*s*chi_c  #TO DO: figure out what min() means...\n",
    "    c_e = min(1, omega)*kap*s*chi_e  #TO DO: ^same\n",
    "    alph_c = alph_m + max(0, 1-c_c/(s*chi_c))*(alph_max - alph_m)  #TO DO: ^same\n",
    "    alph_e = alph_m + max(0, 1-c_e/(s*chi_e))*(alph_max - alph_m)  #TO DO: ^same\n",
    "    eta = (alph_max - beta_c)/(alph_max - alph_m)\n",
    "    chi = gam/(del_)*(lam-eta*s/del_)\n",
    "    phi = chi_enot/(chi_cnot)\n",
    "    psy = chi_e/(chi_c)\n",
    "\n",
    "    egal_opt = 2*eta*s/(lam)\n",
    "    equi_opt = 2*eta*s*(1 + phi)/(lam)\n",
    "    uneq_opt = 2*eta*s*(1 + kap*psy)/(lam)\n",
    "\n",
    "    chi_m = gam*lam/(2*egal_opt) #or (gam*(lam/2)^2)/(eta*s)\n",
    "\n",
    "\n",
    "    chi_c += h*xp_c(chi_c)\n",
    "    chi_e += h*xp_e(chi_e)\n",
    "    y += h*yp(y,chi_c)\n",
    "    w += h*wp(chi_c)\n",
    "    "
   ]
  },
  {
   "cell_type": "markdown",
   "metadata": {},
   "source": [
    "## Graphing"
   ]
  },
  {
   "cell_type": "code",
   "execution_count": 6,
   "metadata": {
    "jupyter": {
     "source_hidden": true
    }
   },
   "outputs": [
    {
     "data": {
      "image/png": "[encoded data removed]",
      "text/plain": [
       "<Figure size 432x288 with 2 Axes>"
      ]
     },
     "metadata": {
      "needs_background": "light"
     },
     "output_type": "display_data"
    }
   ],
   "source": [
    "fig, ax = plt.subplots()\n",
    "#plt.loglog(tpoints,chi_cpts, color = 'brown' , label='Commoners')\n",
    "#plt.semilogx(tpoints,chi_cpts, color = 'brown' , label='Commoners')\n",
    "#plt.semilogy(tpoints,chi_cpts, color = 'brown' , label='Commoners')\n",
    "plt.plot(tpoints,chi_cpts, color = 'brown' , label='Commoners')\n",
    "plt.plot(tpoints,chi_epts, color = 'blue' , label='Elite')\n",
    "plt.title(\"HANDY Model Simulation\")\n",
    "plt.xlabel(\"Years\")\n",
    "plt.ylabel(\"Commoners & Elites\")\n",
    "plt.legend(loc='upper left')\n",
    "plt.twinx()\n",
    "#plt.semilogy(tpoints,chi_epts, color = 'blue' , label='Elite')\n",
    "#plt.plot(tpoints,chi_epts, color = 'blue' , label='Elite')\n",
    "plt.plot(tpoints,ypts, color = 'green' , label='Nature')\n",
    "plt.plot(tpoints,wpts, color = 'yellow' , label='Wealth')\n",
    "\n",
    "plt.legend(loc='upper right')\n",
    "plt.ylabel(\"Nature & Wealth\")\n",
    "plt.savefig('Handy model (unequal).png')\n",
    "plt.show()"
   ]
  },
  {
   "cell_type": "code",
   "execution_count": null,
   "metadata": {},
   "outputs": [],
   "source": []
  }
 ],
 "metadata": {
  "kernelspec": {
   "display_name": "Python 3",
   "language": "python",
   "name": "python3"
  },
  "language_info": {
   "codemirror_mode": {
    "name": "ipython",
    "version": 3
   },
   "file_extension": ".py",
   "mimetype": "text/x-python",
   "name": "python",
   "nbconvert_exporter": "python",
   "pygments_lexer": "ipython3",
   "version": "3.7.4"
  }
 },
 "nbformat": 4,
 "nbformat_minor": 4
}
